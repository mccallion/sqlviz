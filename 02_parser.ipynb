{
 "cells": [
  {
   "cell_type": "code",
   "execution_count": null,
   "id": "0f8efefe",
   "metadata": {},
   "outputs": [],
   "source": [
    "#| default_exp parser"
   ]
  },
  {
   "cell_type": "markdown",
   "id": "8191c130",
   "metadata": {},
   "source": [
    "# parser\n",
    "\n",
    "> Parse a SQL query."
   ]
  },
  {
   "cell_type": "code",
   "execution_count": null,
   "id": "ba2fc4b8",
   "metadata": {},
   "outputs": [],
   "source": [
    "#| hide\n",
    "from nbdev.showdoc import *\n",
    "from fastcore.test import *"
   ]
  },
  {
   "cell_type": "code",
   "execution_count": null,
   "id": "1fc02775",
   "metadata": {},
   "outputs": [],
   "source": [
    "#| export\n",
    "from collections import defaultdict\n",
    "from sqlglot import parse_one\n",
    "from sqlglot.expressions import Expression\n",
    "from sqlviz.utils import *"
   ]
  },
  {
   "cell_type": "code",
   "execution_count": null,
   "id": "84c4758c",
   "metadata": {},
   "outputs": [],
   "source": [
    "#| export\n",
    "def parse_operations(sql:str) -> dict:\n",
    "    \n",
    "    \"Given a query string, return a dictionary of parsed SQL operations.\"\n",
    "    \n",
    "    ops = defaultdict(lambda: list())\n",
    "    \n",
    "    ast = parse_one(sql)\n",
    "    for exp in ast.walk():\n",
    "        item, parent, key = exp\n",
    "        if parent == ast:\n",
    "            ops[key].append(item.sql())\n",
    "    \n",
    "    ops['select'] = ops['expressions']\n",
    "    ops.pop('expressions')\n",
    "    \n",
    "    try: ops['limit'] = ops['limit'][0][6:]\n",
    "    except: pass\n",
    "    try: ops['from'] = ops['from'][0][5:]\n",
    "    except: pass\n",
    "    try: ops['joins'] = ops['joins']\n",
    "    except: pass\n",
    "    try: ops['where'] = ops['where'][0][6:]\n",
    "    except: pass\n",
    "    try: ops['group'] = ops['group'][0][9:]\n",
    "    except: pass\n",
    "    try: ops['having'] = ops['having'][0][7:]\n",
    "    except: pass\n",
    "    try: ops['order'] = ops['order'][0][9:]\n",
    "    except: pass\n",
    "    \n",
    "    res = {}\n",
    "    for k,v in ops.items():\n",
    "        if v == []: pass\n",
    "        else: res[k] = v\n",
    "            \n",
    "    res['_ops'] = list(res.keys())\n",
    "    \n",
    "    return res"
   ]
  },
  {
   "cell_type": "code",
   "execution_count": null,
   "id": "5baa562d",
   "metadata": {},
   "outputs": [
    {
     "name": "stdout",
     "output_type": "stream",
     "text": [
      "select: ['1']\n",
      "_ops: ['select']\n",
      "\n",
      "limit: 5\n",
      "from: pageviews\n",
      "select: ['email', 'url']\n",
      "_ops: ['limit', 'from', 'select']\n",
      "\n",
      "limit: 5\n",
      "from: pageviews AS pv\n",
      "joins: ['JOIN users AS u USING (user_id)', 'LEFT JOIN accounts AS a ON (u.account_id = a.id)']\n",
      "where: c5 > 0 AND NOT c6 IS NULL\n",
      "group: c1\n",
      "having: COUNT(DISTINCT things) > 1\n",
      "order: COUNT(DISTINCT things)\n",
      "select: ['c1', 'c2 AS \"foo\"', 'c3 + c4 AS \"bar\"', 'COUNT(DISTINCT things)']\n",
      "_ops: ['limit', 'from', 'joins', 'where', 'group', 'having', 'order', 'select']\n",
      "\n",
      "from: opportunity_raw\n",
      "where: iswon AND amount > 0\n",
      "select: ['accountid AS account_id', 'closedate AS close_date', 'company_industry_group__c AS industry', 'amount']\n",
      "_ops: ['from', 'where', 'select']\n",
      "\n"
     ]
    }
   ],
   "source": [
    "from sqlviz.sql import *\n",
    "\n",
    "for q in Q:\n",
    "    for k,v in parse_operations(q).items():\n",
    "        print(f\"{k}: {v}\")\n",
    "    print(\"\")"
   ]
  },
  {
   "cell_type": "code",
   "execution_count": null,
   "id": "ade545e5",
   "metadata": {},
   "outputs": [],
   "source": []
  }
 ],
 "metadata": {
  "kernelspec": {
   "display_name": "Python 3 (ipykernel)",
   "language": "python",
   "name": "python3"
  }
 },
 "nbformat": 4,
 "nbformat_minor": 5
}
