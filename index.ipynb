{
 "cells": [
  {
   "cell_type": "markdown",
   "metadata": {},
   "source": [
    "# sqlviz\n",
    "\n",
    "> A python library for visualizing sql queries."
   ]
  },
  {
   "cell_type": "code",
   "execution_count": null,
   "metadata": {},
   "outputs": [],
   "source": [
    "#| hide\n",
    "from nbdev.showdoc import *"
   ]
  },
  {
   "cell_type": "code",
   "execution_count": null,
   "metadata": {},
   "outputs": [],
   "source": [
    "from sqlviz.utils import *\n",
    "from sqlviz.sql import *\n",
    "from sqlviz.parser import *"
   ]
  },
  {
   "cell_type": "markdown",
   "metadata": {},
   "source": [
    "## Basic useage"
   ]
  },
  {
   "cell_type": "code",
   "execution_count": null,
   "metadata": {},
   "outputs": [
    {
     "data": {
      "text/html": [
       "<div>\n",
       "<style scoped>\n",
       "    .dataframe tbody tr th:only-of-type {\n",
       "        vertical-align: middle;\n",
       "    }\n",
       "\n",
       "    .dataframe tbody tr th {\n",
       "        vertical-align: top;\n",
       "    }\n",
       "\n",
       "    .dataframe thead th {\n",
       "        text-align: right;\n",
       "    }\n",
       "</style>\n",
       "<table border=\"1\" class=\"dataframe\">\n",
       "  <thead>\n",
       "    <tr style=\"text-align: right;\">\n",
       "      <th></th>\n",
       "      <th>email</th>\n",
       "      <th>url</th>\n",
       "    </tr>\n",
       "  </thead>\n",
       "  <tbody>\n",
       "    <tr>\n",
       "      <th>0</th>\n",
       "      <td>sk.bhachech@everbridge.com</td>\n",
       "      <td>https://everbridge.zengrc.com/reports/audits/a...</td>\n",
       "    </tr>\n",
       "    <tr>\n",
       "      <th>1</th>\n",
       "      <td>sk.bhachech@everbridge.com</td>\n",
       "      <td>https://everbridge.zengrc.com/sor/listing/Revi...</td>\n",
       "    </tr>\n",
       "    <tr>\n",
       "      <th>2</th>\n",
       "      <td>maria_sonina@colpal.com</td>\n",
       "      <td>https://colgate.zengrc.com/sor/info/Project/22...</td>\n",
       "    </tr>\n",
       "    <tr>\n",
       "      <th>3</th>\n",
       "      <td>chuck.walkup@virginpulse.com</td>\n",
       "      <td>https://virginpulse.zengrc.com/todo_list/To-Do...</td>\n",
       "    </tr>\n",
       "    <tr>\n",
       "      <th>4</th>\n",
       "      <td>chuck.walkup@virginpulse.com</td>\n",
       "      <td>https://virginpulse.zengrc.com/sor/listing/Iss...</td>\n",
       "    </tr>\n",
       "  </tbody>\n",
       "</table>\n",
       "</div>"
      ],
      "text/plain": [
       "                          email  \\\n",
       "0    sk.bhachech@everbridge.com   \n",
       "1    sk.bhachech@everbridge.com   \n",
       "2       maria_sonina@colpal.com   \n",
       "3  chuck.walkup@virginpulse.com   \n",
       "4  chuck.walkup@virginpulse.com   \n",
       "\n",
       "                                                 url  \n",
       "0  https://everbridge.zengrc.com/reports/audits/a...  \n",
       "1  https://everbridge.zengrc.com/sor/listing/Revi...  \n",
       "2  https://colgate.zengrc.com/sor/info/Project/22...  \n",
       "3  https://virginpulse.zengrc.com/todo_list/To-Do...  \n",
       "4  https://virginpulse.zengrc.com/sor/listing/Iss...  "
      ]
     },
     "execution_count": null,
     "metadata": {},
     "output_type": "execute_result"
    }
   ],
   "source": [
    "conn = Conn(CREDS)\n",
    "query = \"select email, url from pageviews limit 5\"\n",
    "sql = Sql(conn, query)\n",
    "sql.run()"
   ]
  },
  {
   "cell_type": "markdown",
   "metadata": {},
   "source": [
    "## Classes"
   ]
  },
  {
   "cell_type": "code",
   "execution_count": null,
   "metadata": {},
   "outputs": [
    {
     "data": {
      "text/markdown": [
       "---\n",
       "\n",
       "### Conn\n",
       "\n",
       ">      Conn (creds:dict)\n",
       "\n",
       "A wrapper around a psycopg2 connection."
      ],
      "text/plain": [
       "<nbdev.showdoc.BasicMarkdownRenderer at 0x7fe76041c6d0>"
      ]
     },
     "execution_count": null,
     "metadata": {},
     "output_type": "execute_result"
    }
   ],
   "source": [
    "show_doc(Conn)"
   ]
  },
  {
   "cell_type": "code",
   "execution_count": null,
   "metadata": {},
   "outputs": [
    {
     "data": {
      "text/markdown": [
       "---\n",
       "\n",
       "### Sql\n",
       "\n",
       ">      Sql (conn:sqlviz.sql.Conn, query:str)\n",
       "\n",
       "A query plus a db connection."
      ],
      "text/plain": [
       "<nbdev.showdoc.BasicMarkdownRenderer at 0x7fe7604e6850>"
      ]
     },
     "execution_count": null,
     "metadata": {},
     "output_type": "execute_result"
    }
   ],
   "source": [
    "show_doc(Sql)"
   ]
  }
 ],
 "metadata": {
  "kernelspec": {
   "display_name": "Python 3 (ipykernel)",
   "language": "python",
   "name": "python3"
  }
 },
 "nbformat": 4,
 "nbformat_minor": 4
}
