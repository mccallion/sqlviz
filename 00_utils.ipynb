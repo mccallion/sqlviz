{
 "cells": [
  {
   "cell_type": "code",
   "execution_count": null,
   "id": "28d9e4e8",
   "metadata": {},
   "outputs": [],
   "source": [
    "#| default_exp utils"
   ]
  },
  {
   "cell_type": "markdown",
   "id": "8e51f5df",
   "metadata": {},
   "source": [
    "# utils\n",
    "> Stuff for things and such!"
   ]
  },
  {
   "cell_type": "code",
   "execution_count": null,
   "id": "1492602f",
   "metadata": {},
   "outputs": [],
   "source": [
    "#| hide\n",
    "from nbdev.showdoc import *"
   ]
  },
  {
   "cell_type": "code",
   "execution_count": null,
   "id": "4f79786c",
   "metadata": {},
   "outputs": [],
   "source": [
    "#| export\n",
    "from fastcore.utils import *\n",
    "from fastcore.test import *\n",
    "from PIL import Image\n",
    "from matplotlib import cm\n",
    "from matplotlib.colors import LinearSegmentedColormap\n",
    "import numpy as np"
   ]
  },
  {
   "cell_type": "markdown",
   "id": "49069723",
   "metadata": {},
   "source": [
    "# global constants"
   ]
  },
  {
   "cell_type": "code",
   "execution_count": null,
   "id": "8bcde622",
   "metadata": {},
   "outputs": [],
   "source": [
    "#| export\n",
    "CREDS = {\n",
    "    \"host\" : \"localhost\",\n",
    "    \"database\" : \"rorymccallion\",\n",
    "    \"user\" : \"rorymccallion\" \n",
    "}"
   ]
  },
  {
   "cell_type": "markdown",
   "id": "1b128f46",
   "metadata": {},
   "source": [
    "A `CREDS` dicts contains the keys `host`, `database`, and `user` (all values are `str`s)."
   ]
  },
  {
   "cell_type": "code",
   "execution_count": null,
   "id": "32643485",
   "metadata": {},
   "outputs": [],
   "source": [
    "#| export\n",
    "Q = [\n",
    "    \"\"\"select 1\"\"\",\n",
    "    \n",
    "    \"\"\"select email, url from pageviews limit 5\"\"\",\n",
    "    \n",
    "    \"\"\"select\n",
    "  c1,\n",
    "  c2 as \"foo\",\n",
    "  c3+c4 as \"bar\",\n",
    "  count(distinct things)\n",
    "from pageviews pv\n",
    "join users u using (user_id)\n",
    "left join accounts a on (u.account_id = a.id)\n",
    "where c5 > 0\n",
    "  and c6 is not null\n",
    "group by c1\n",
    "having count(distinct things) > 1\n",
    "order by count(distinct things)\n",
    "limit 5\"\"\",\n",
    "    \n",
    "    \"\"\"select\n",
    "  accountid as account_id,\n",
    "  closedate as close_date,\n",
    "  company_industry_group__c as industry,\n",
    "  amount\n",
    "from opportunity_raw\n",
    "where iswon\n",
    "  and amount > 0\"\"\",\n",
    "]"
   ]
  },
  {
   "cell_type": "code",
   "execution_count": null,
   "id": "b690aeb2",
   "metadata": {},
   "outputs": [
    {
     "name": "stdout",
     "output_type": "stream",
     "text": [
      "select 1 \n",
      "\n",
      "select email, url from pageviews limit 5 \n",
      "\n",
      "select\n",
      "  c1,\n",
      "  c2 as \"foo\",\n",
      "  c3+c4 as \"bar\",\n",
      "  count(distinct things)\n",
      "from pageviews pv\n",
      "join users u using (user_id)\n",
      "left join accounts a on (u.account_id = a.id)\n",
      "where c5 > 0\n",
      "  and c6 is not null\n",
      "group by c1\n",
      "having count(distinct things) > 1\n",
      "order by count(distinct things)\n",
      "limit 5 \n",
      "\n",
      "select\n",
      "  accountid as account_id,\n",
      "  closedate as close_date,\n",
      "  company_industry_group__c as industry,\n",
      "  amount\n",
      "from opportunity_raw\n",
      "where iswon\n",
      "  and amount > 0 \n",
      "\n"
     ]
    }
   ],
   "source": [
    "for q in Q: print(q, \"\\n\")"
   ]
  },
  {
   "cell_type": "markdown",
   "id": "86976987",
   "metadata": {},
   "source": [
    "# images"
   ]
  },
  {
   "cell_type": "code",
   "execution_count": null,
   "id": "8d17de69",
   "metadata": {},
   "outputs": [],
   "source": [
    "#| export\n",
    "css2name = {\n",
    "    'white'             : 'white',\n",
    "    'whitesmoke'        : 'lightgrey',\n",
    "    'lightgrey'         : 'grey',\n",
    "    'grey'              : 'darkgrey',\n",
    "    'black'             : 'black',\n",
    "    'midnightblue'      : 'darkblue',\n",
    "    'blue'              : 'blue',\n",
    "    'darkviolet'        : 'purple',\n",
    "    'violet'            : 'pink',\n",
    "    'magenta'           : 'magenta',\n",
    "    'deeppink'          : 'deeppink',\n",
    "    'tomato'            : 'red',\n",
    "    'darkorange'        : 'orange',\n",
    "    'gold'              : 'gold',\n",
    "    'yellow'            : 'yellow',\n",
    "    'chartreuse'        : 'lime',\n",
    "    'lime'              : 'green',\n",
    "    'mediumspringgreen' : 'bluegreen',\n",
    "    'aquamarine'        : 'mint',\n",
    "    'cyan'              : 'cyan',\n",
    "    'beige'             : 'beige',\n",
    "}"
   ]
  },
  {
   "cell_type": "code",
   "execution_count": null,
   "id": "47d89b73",
   "metadata": {},
   "outputs": [
    {
     "data": {
      "text/plain": [
       "{'white': 'white',\n",
       " 'whitesmoke': 'lightgrey',\n",
       " 'lightgrey': 'grey',\n",
       " 'grey': 'darkgrey',\n",
       " 'black': 'black',\n",
       " 'midnightblue': 'darkblue',\n",
       " 'blue': 'blue',\n",
       " 'darkviolet': 'purple',\n",
       " 'violet': 'pink',\n",
       " 'magenta': 'magenta',\n",
       " 'deeppink': 'deeppink',\n",
       " 'tomato': 'red',\n",
       " 'darkorange': 'orange',\n",
       " 'gold': 'gold',\n",
       " 'yellow': 'yellow',\n",
       " 'chartreuse': 'lime',\n",
       " 'lime': 'green',\n",
       " 'mediumspringgreen': 'bluegreen',\n",
       " 'aquamarine': 'mint',\n",
       " 'cyan': 'cyan',\n",
       " 'beige': 'beige'}"
      ]
     },
     "execution_count": null,
     "metadata": {},
     "output_type": "execute_result"
    }
   ],
   "source": [
    "css2name"
   ]
  },
  {
   "cell_type": "code",
   "execution_count": null,
   "id": "cc6259e3",
   "metadata": {},
   "outputs": [],
   "source": [
    "test_eq(len(css2name), 21)"
   ]
  },
  {
   "cell_type": "code",
   "execution_count": null,
   "id": "b613c4c5",
   "metadata": {},
   "outputs": [],
   "source": [
    "#| export\n",
    "color_vals = [x/100 for x in range(0, len(css2name)*5, 5)]\n",
    "colors = {k:v for k,v in zip(list(css2name.values()), color_vals)}"
   ]
  },
  {
   "cell_type": "code",
   "execution_count": null,
   "id": "f0376ef9",
   "metadata": {},
   "outputs": [],
   "source": [
    "#| export\n",
    "color_map = LinearSegmentedColormap.from_list(\n",
    "    \"Colors are mapped to floats between 0 and 1\",\n",
    "    list(css2name.keys()))"
   ]
  },
  {
   "cell_type": "code",
   "execution_count": null,
   "id": "6bc5a7ab",
   "metadata": {},
   "outputs": [
    {
     "data": {
      "image/png": "[encoded data removed]",
      "text/html": [
       "<div style=\"vertical-align: middle;\"><strong>Colors are mapped to floats between 0 and 1</strong> </div><div class=\"cmap\"><img alt=\"Colors are mapped to floats between 0 and 1 colormap\" title=\"Colors are mapped to floats between 0 and 1\" style=\"border: 1px solid #555;\" src=\"data:image/png;base64,iVBORw0KGgoAAAANSUhEUgAAAgAAAABACAYAAABsv8+/AAAAOnRFWHRUaXRsZQBDb2xvcnMgYXJlIG1hcHBlZCB0byBmbG9hdHMgYmV0d2VlbiAwIGFuZCAxIGNvbG9ybWFwY1TvLgAAAEB0RVh0RGVzY3JpcHRpb24AQ29sb3JzIGFyZSBtYXBwZWQgdG8gZmxvYXRzIGJldHdlZW4gMCBhbmQgMSBjb2xvcm1hcL/V92YAAAAwdEVYdEF1dGhvcgBNYXRwbG90bGliIHYzLjUuMSwgaHR0cHM6Ly9tYXRwbG90bGliLm9yZ/e3zs8AAAAydEVYdFNvZnR3YXJlAE1hdHBsb3RsaWIgdjMuNS4xLCBodHRwczovL21hdHBsb3RsaWIub3Jn2RFR6AAAAlVJREFUeJzt1sFSGlEQhtGeAaMCu+T939JBIEAWc7GKURwqxkXqP2fT6TuXpAoJft35fD5XVbVxc1589d7xeKyqqtPpdLX/q/PD4VBVVfv9vqqqdrvdt+zb7baqqoZh+NbZdU9VVdX3zzfm3PPP73Xdc3sfN22uZ+bf3XuoZVVVbep3m+PPa/1uP95573q/3H967Kqq6nHVj3PdX++rxWS/de/j+bQeX9+9jP9ON4yzH/qr/e385cb59P7079u1/0/d6zj7bZuvH5/P7W+vm+zL8fNcP/afz8eZ53P3lm0uDm1ezif74t57N/Yf9bX5cOfzRZvLyX7vnHndfvx41FD/92yftqrzpv1h8/F+6/zOe32N3zOr9sau2g9q1c3sl/vdw133qp0PdZmLybz3/PN7m/P4e+3n2xy/536177vLPn3+/t6t56f2vgEAcQQAAAQSAAAQSAAAQCABAACBBAAABBIAABBIAABAIAEAAIEEAAAEEgAAEEgAAEAgAQAAgQQAAAQSAAAQSAAAQCABAACBBAAABBIAABBIAABAIAEAAIEEAAAEEgAAEEgAAEAgAQAAgQQAAAQSAAAQSAAAQCABAACBBAAABBIAABBIAABAIAEAAIEEAAAEEgAAEEgAAEAgAQAAgQQAAAQSAAAQSAAAQCABAACBBAAABBIAABBIAABAIAEAAIEEAAAEEgAAEEgAAEAgAQAAgQQAAAQSAAAQSAAAQCABAACBBAAABBIAABBIAABAIAEAAIEEAAAEEgAAEEgAAEAgAQAAgQQAAAQSAAAQ6A9NpzFUzoePfwAAAABJRU5ErkJggg==\"></div><div style=\"vertical-align: middle; max-width: 514px; display: flex; justify-content: space-between;\"><div style=\"float: left;\"><div title=\"#ffffffff\" style=\"display: inline-block; width: 1em; height: 1em; margin: 0; vertical-align: middle; border: 1px solid #555; background-color: #ffffffff;\"></div> under</div><div style=\"margin: 0 auto; display: inline-block;\">bad <div title=\"#00000000\" style=\"display: inline-block; width: 1em; height: 1em; margin: 0; vertical-align: middle; border: 1px solid #555; background-color: #00000000;\"></div></div><div style=\"float: right;\">over <div title=\"#f5f5dcff\" style=\"display: inline-block; width: 1em; height: 1em; margin: 0; vertical-align: middle; border: 1px solid #555; background-color: #f5f5dcff;\"></div></div>"
      ],
      "text/plain": [
       "<matplotlib.colors.LinearSegmentedColormap at 0x7f845307c5e0>"
      ]
     },
     "execution_count": null,
     "metadata": {},
     "output_type": "execute_result"
    }
   ],
   "source": [
    "color_map"
   ]
  },
  {
   "cell_type": "code",
   "execution_count": null,
   "id": "3ef04f34",
   "metadata": {},
   "outputs": [
    {
     "data": {
      "text/plain": [
       "{'white': 0.0,\n",
       " 'lightgrey': 0.05,\n",
       " 'grey': 0.1,\n",
       " 'darkgrey': 0.15,\n",
       " 'black': 0.2,\n",
       " 'darkblue': 0.25,\n",
       " 'blue': 0.3,\n",
       " 'purple': 0.35,\n",
       " 'pink': 0.4,\n",
       " 'magenta': 0.45,\n",
       " 'deeppink': 0.5,\n",
       " 'red': 0.55,\n",
       " 'orange': 0.6,\n",
       " 'gold': 0.65,\n",
       " 'yellow': 0.7,\n",
       " 'lime': 0.75,\n",
       " 'green': 0.8,\n",
       " 'bluegreen': 0.85,\n",
       " 'mint': 0.9,\n",
       " 'cyan': 0.95,\n",
       " 'beige': 1.0}"
      ]
     },
     "execution_count": null,
     "metadata": {},
     "output_type": "execute_result"
    }
   ],
   "source": [
    "colors"
   ]
  },
  {
   "cell_type": "code",
   "execution_count": null,
   "id": "4f1334a5",
   "metadata": {},
   "outputs": [],
   "source": [
    "#| export\n",
    "def rect(hw, color):\n",
    "    return np.ones(hw) * colors[color]\n",
    "\n",
    "def to_img(array, reduce_by=1) -> Image:\n",
    "    img = Image.fromarray(color_map(array, bytes=True))\n",
    "    return img.reduce(reduce_by)"
   ]
  },
  {
   "cell_type": "code",
   "execution_count": null,
   "id": "45afd724",
   "metadata": {},
   "outputs": [
    {
     "data": {
      "image/png": "[encoded data removed]",
      "text/plain": [
       "<PIL.Image.Image image mode=RGBA size=25x50 at 0x7F845328FA30>"
      ]
     },
     "execution_count": null,
     "metadata": {},
     "output_type": "execute_result"
    }
   ],
   "source": [
    "to_img(rect((50, 25), 'magenta'))"
   ]
  },
  {
   "cell_type": "code",
   "execution_count": null,
   "id": "9eb81077",
   "metadata": {},
   "outputs": [],
   "source": []
  }
 ],
 "metadata": {
  "kernelspec": {
   "display_name": "Python 3 (ipykernel)",
   "language": "python",
   "name": "python3"
  }
 },
 "nbformat": 4,
 "nbformat_minor": 5
}
