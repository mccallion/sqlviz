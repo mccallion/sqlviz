{
 "cells": [
  {
   "cell_type": "code",
   "execution_count": null,
   "metadata": {},
   "outputs": [],
   "source": [
    "#| default_exp sql"
   ]
  },
  {
   "cell_type": "markdown",
   "metadata": {},
   "source": [
    "# Sql\n",
    "\n",
    "> A query plus a database connection."
   ]
  },
  {
   "cell_type": "code",
   "execution_count": null,
   "metadata": {},
   "outputs": [],
   "source": [
    "#| hide\n",
    "from nbdev.showdoc import *"
   ]
  },
  {
   "cell_type": "code",
   "execution_count": null,
   "metadata": {},
   "outputs": [],
   "source": [
    "#| export\n",
    "from fastcore.test import *\n",
    "from fastcore.utils import *\n",
    "import numpy as np\n",
    "import psycopg2\n",
    "import pandas as pd\n",
    "\n",
    "from sqlviz.parser import *\n",
    "from sqlviz.utils import *"
   ]
  },
  {
   "cell_type": "code",
   "execution_count": null,
   "metadata": {},
   "outputs": [],
   "source": [
    "#| export\n",
    "class Conn:\n",
    "    \n",
    "    \"A wrapper around a psycopg2 connection.\"\n",
    "    \n",
    "    def __init__(self, creds:dict):\n",
    "        self.conn = psycopg2.connect(**creds)\n",
    "        self.curs = self.conn.cursor()"
   ]
  },
  {
   "cell_type": "code",
   "execution_count": null,
   "metadata": {},
   "outputs": [],
   "source": [
    "#| export\n",
    "@patch\n",
    "def run_query(self:Conn,\n",
    "              query:str,\n",
    "             ) -> Union[str, pd.DataFrame]:\n",
    "\n",
    "    \"Run a query and return a Dataframe or an error string.\"\n",
    "    \n",
    "    try:\n",
    "        self.curs.execute(query)\n",
    "    except psycopg2.Error as e:\n",
    "        self.conn.rollback()\n",
    "        return e.pgerror\n",
    "    else:\n",
    "        rows = self.curs.fetchall()\n",
    "        rows = [[str(v) for v in row] for row in rows]\n",
    "        cols = list(zip(*rows))\n",
    "        names = [d[0] for d in self.curs.description]\n",
    "        return pd.DataFrame({n : list(c) for n, c in zip(names, cols)})"
   ]
  },
  {
   "cell_type": "code",
   "execution_count": null,
   "metadata": {},
   "outputs": [
    {
     "data": {
      "text/html": [
       "<div>\n",
       "<style scoped>\n",
       "    .dataframe tbody tr th:only-of-type {\n",
       "        vertical-align: middle;\n",
       "    }\n",
       "\n",
       "    .dataframe tbody tr th {\n",
       "        vertical-align: top;\n",
       "    }\n",
       "\n",
       "    .dataframe thead th {\n",
       "        text-align: right;\n",
       "    }\n",
       "</style>\n",
       "<table border=\"1\" class=\"dataframe\">\n",
       "  <thead>\n",
       "    <tr style=\"text-align: right;\">\n",
       "      <th></th>\n",
       "      <th>email</th>\n",
       "      <th>url</th>\n",
       "    </tr>\n",
       "  </thead>\n",
       "  <tbody>\n",
       "    <tr>\n",
       "      <th>0</th>\n",
       "      <td>sk.bhachech@everbridge.com</td>\n",
       "      <td>https://everbridge.zengrc.com/reports/audits/a...</td>\n",
       "    </tr>\n",
       "    <tr>\n",
       "      <th>1</th>\n",
       "      <td>sk.bhachech@everbridge.com</td>\n",
       "      <td>https://everbridge.zengrc.com/sor/listing/Revi...</td>\n",
       "    </tr>\n",
       "    <tr>\n",
       "      <th>2</th>\n",
       "      <td>maria_sonina@colpal.com</td>\n",
       "      <td>https://colgate.zengrc.com/sor/info/Project/22...</td>\n",
       "    </tr>\n",
       "    <tr>\n",
       "      <th>3</th>\n",
       "      <td>chuck.walkup@virginpulse.com</td>\n",
       "      <td>https://virginpulse.zengrc.com/todo_list/To-Do...</td>\n",
       "    </tr>\n",
       "    <tr>\n",
       "      <th>4</th>\n",
       "      <td>chuck.walkup@virginpulse.com</td>\n",
       "      <td>https://virginpulse.zengrc.com/sor/listing/Iss...</td>\n",
       "    </tr>\n",
       "  </tbody>\n",
       "</table>\n",
       "</div>"
      ],
      "text/plain": [
       "                          email  \\\n",
       "0    sk.bhachech@everbridge.com   \n",
       "1    sk.bhachech@everbridge.com   \n",
       "2       maria_sonina@colpal.com   \n",
       "3  chuck.walkup@virginpulse.com   \n",
       "4  chuck.walkup@virginpulse.com   \n",
       "\n",
       "                                                 url  \n",
       "0  https://everbridge.zengrc.com/reports/audits/a...  \n",
       "1  https://everbridge.zengrc.com/sor/listing/Revi...  \n",
       "2  https://colgate.zengrc.com/sor/info/Project/22...  \n",
       "3  https://virginpulse.zengrc.com/todo_list/To-Do...  \n",
       "4  https://virginpulse.zengrc.com/sor/listing/Iss...  "
      ]
     },
     "execution_count": null,
     "metadata": {},
     "output_type": "execute_result"
    }
   ],
   "source": [
    "conn = Conn(CREDS)\n",
    "conn.run_query(Q[1])"
   ]
  },
  {
   "cell_type": "code",
   "execution_count": null,
   "metadata": {},
   "outputs": [],
   "source": [
    "#| export\n",
    "class Sql:\n",
    "    \n",
    "    \"A query plus a db connection.\"\n",
    "    \n",
    "    def __init__(self, conn:Conn, query:str):\n",
    "        self.conn = conn\n",
    "        self.query = query\n",
    "        self.parsed = parse_operations(query)\n",
    "        self.res = None\n",
    "        \n",
    "    def run(self):\n",
    "        \"Run a query.\"\n",
    "        self.res = self.conn.run_query(self.query)\n",
    "        return self.res"
   ]
  },
  {
   "cell_type": "code",
   "execution_count": null,
   "metadata": {},
   "outputs": [
    {
     "data": {
      "text/plain": [
       "{'limit': '5',\n",
       " 'from': 'pageviews',\n",
       " 'select': ['email', 'url'],\n",
       " '_ops': ['limit', 'from', 'select']}"
      ]
     },
     "execution_count": null,
     "metadata": {},
     "output_type": "execute_result"
    }
   ],
   "source": [
    "Sql(conn, Q[1]).parsed"
   ]
  },
  {
   "cell_type": "code",
   "execution_count": null,
   "metadata": {},
   "outputs": [
    {
     "data": {
      "text/html": [
       "<div>\n",
       "<style scoped>\n",
       "    .dataframe tbody tr th:only-of-type {\n",
       "        vertical-align: middle;\n",
       "    }\n",
       "\n",
       "    .dataframe tbody tr th {\n",
       "        vertical-align: top;\n",
       "    }\n",
       "\n",
       "    .dataframe thead th {\n",
       "        text-align: right;\n",
       "    }\n",
       "</style>\n",
       "<table border=\"1\" class=\"dataframe\">\n",
       "  <thead>\n",
       "    <tr style=\"text-align: right;\">\n",
       "      <th></th>\n",
       "      <th>email</th>\n",
       "      <th>url</th>\n",
       "    </tr>\n",
       "  </thead>\n",
       "  <tbody>\n",
       "    <tr>\n",
       "      <th>0</th>\n",
       "      <td>sk.bhachech@everbridge.com</td>\n",
       "      <td>https://everbridge.zengrc.com/reports/audits/a...</td>\n",
       "    </tr>\n",
       "    <tr>\n",
       "      <th>1</th>\n",
       "      <td>sk.bhachech@everbridge.com</td>\n",
       "      <td>https://everbridge.zengrc.com/sor/listing/Revi...</td>\n",
       "    </tr>\n",
       "    <tr>\n",
       "      <th>2</th>\n",
       "      <td>maria_sonina@colpal.com</td>\n",
       "      <td>https://colgate.zengrc.com/sor/info/Project/22...</td>\n",
       "    </tr>\n",
       "    <tr>\n",
       "      <th>3</th>\n",
       "      <td>chuck.walkup@virginpulse.com</td>\n",
       "      <td>https://virginpulse.zengrc.com/todo_list/To-Do...</td>\n",
       "    </tr>\n",
       "    <tr>\n",
       "      <th>4</th>\n",
       "      <td>chuck.walkup@virginpulse.com</td>\n",
       "      <td>https://virginpulse.zengrc.com/sor/listing/Iss...</td>\n",
       "    </tr>\n",
       "  </tbody>\n",
       "</table>\n",
       "</div>"
      ],
      "text/plain": [
       "                          email  \\\n",
       "0    sk.bhachech@everbridge.com   \n",
       "1    sk.bhachech@everbridge.com   \n",
       "2       maria_sonina@colpal.com   \n",
       "3  chuck.walkup@virginpulse.com   \n",
       "4  chuck.walkup@virginpulse.com   \n",
       "\n",
       "                                                 url  \n",
       "0  https://everbridge.zengrc.com/reports/audits/a...  \n",
       "1  https://everbridge.zengrc.com/sor/listing/Revi...  \n",
       "2  https://colgate.zengrc.com/sor/info/Project/22...  \n",
       "3  https://virginpulse.zengrc.com/todo_list/To-Do...  \n",
       "4  https://virginpulse.zengrc.com/sor/listing/Iss...  "
      ]
     },
     "execution_count": null,
     "metadata": {},
     "output_type": "execute_result"
    }
   ],
   "source": [
    "Sql(conn, Q[1]).run()"
   ]
  },
  {
   "cell_type": "markdown",
   "metadata": {},
   "source": [
    "## viz_from"
   ]
  },
  {
   "cell_type": "code",
   "execution_count": null,
   "metadata": {},
   "outputs": [],
   "source": [
    "#| export\n",
    "@patch\n",
    "def get_nrows(self:Sql, table:str):\n",
    "    q = \"SELECT count(*) from \" + table\n",
    "    df = self.conn.run_query(q)\n",
    "    return int(df.iloc[0,0])\n",
    "\n",
    "@patch\n",
    "def get_ncols(self:Sql, table:str):\n",
    "    ncols_query = \"SELECT * from \" + table + \" LIMIT 1\"\n",
    "    ncols_df = self.conn.run_query(ncols_query)\n",
    "    return ncols_df.shape[1]\n",
    "\n",
    "@patch\n",
    "def get_table_hw(self:Sql, table:str):\n",
    "    return self.get_nrows(table), self.get_ncols(table)\n",
    "\n",
    "@patch\n",
    "def viz_from(self:Sql) -> np.array:\n",
    "    hw = self.get_table_hw(self.parsed['from'])\n",
    "    return rect(hw, 'green')"
   ]
  },
  {
   "cell_type": "code",
   "execution_count": null,
   "metadata": {},
   "outputs": [],
   "source": [
    "array = Sql(conn, Q[3]).viz_from()"
   ]
  },
  {
   "cell_type": "code",
   "execution_count": null,
   "metadata": {},
   "outputs": [
    {
     "data": {
      "image/png": "[encoded data removed]",
      "text/plain": [
       "<PIL.Image.Image image mode=RGBA size=33x222 at 0x7FC01548D550>"
      ]
     },
     "execution_count": null,
     "metadata": {},
     "output_type": "execute_result"
    }
   ],
   "source": [
    "to_img(array, 8)"
   ]
  },
  {
   "cell_type": "code",
   "execution_count": null,
   "metadata": {},
   "outputs": [],
   "source": [
    "#| export\n",
    "@patch\n",
    "def viz_where(self:Sql):\n",
    "    \n",
    "    t_color, f_color = colors['green'], colors['lightgrey']\n",
    "    \n",
    "    where_query = f\"\"\"\n",
    "      select\n",
    "        case when {self.parsed['where']}\n",
    "             then {t_color}\n",
    "             else {f_color}\n",
    "             end as color\n",
    "      from {self.parsed['from']}\n",
    "      \"\"\"\n",
    "    \n",
    "    df = Sql(conn, where_query).run()\n",
    "    df['color'] = df['color'].apply(float)\n",
    "    \n",
    "    ncols = self.get_ncols(self.parsed['from'])\n",
    "    \n",
    "    res = np.repeat(df.to_numpy(), ncols, axis=1)\n",
    "    return res"
   ]
  },
  {
   "cell_type": "code",
   "execution_count": null,
   "metadata": {},
   "outputs": [
    {
     "data": {
      "image/png": "[encoded data removed]",
      "text/plain": [
       "<PIL.Image.Image image mode=RGBA size=33x222 at 0x7FC0163D06A0>"
      ]
     },
     "execution_count": null,
     "metadata": {},
     "output_type": "execute_result"
    }
   ],
   "source": [
    "to_img(Sql(conn, Q[3]).viz_where(), 8)"
   ]
  },
  {
   "cell_type": "code",
   "execution_count": null,
   "metadata": {},
   "outputs": [],
   "source": []
  }
 ],
 "metadata": {
  "kernelspec": {
   "display_name": "Python 3 (ipykernel)",
   "language": "python",
   "name": "python3"
  }
 },
 "nbformat": 4,
 "nbformat_minor": 4
}
